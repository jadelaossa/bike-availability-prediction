{
  "nbformat": 4,
  "nbformat_minor": 0,
  "metadata": {
    "colab": {
      "provenance": []
    },
    "kernelspec": {
      "name": "python3",
      "display_name": "Python 3"
    },
    "language_info": {
      "name": "python"
    }
  },
  "cells": [
    {
      "cell_type": "code",
      "execution_count": 2,
      "metadata": {
        "id": "lYlxbi-x9mw_"
      },
      "outputs": [],
      "source": [
        "import pandas as pd\n",
        "import numpy as np\n",
        "\n",
        "#Read data\n",
        "df=pd.read_parquet('/content/drive/MyDrive/bicing_full.parquet')\n",
        "variables=['station_id','month','day','hour','weekend','weekday','is_holiday','season','percentage_docks_available','ctx_1','ctx_2','ctx_3','ctx_4','post_code','lon','lat','altitude','capacity','avg_temp', 'max_temp', 'min_temp', 'avg_rel_humidity','acum_precipitation']\n",
        "df=df[variables]\n",
        "df=df[::20]"
      ]
    },
    {
      "cell_type": "code",
      "source": [
        "df.info()"
      ],
      "metadata": {
        "colab": {
          "base_uri": "https://localhost:8080/"
        },
        "id": "zdttqdTGqOD8",
        "outputId": "a4a23176-0e93-48df-f7cd-fae00a0de587"
      },
      "execution_count": null,
      "outputs": [
        {
          "output_type": "stream",
          "name": "stdout",
          "text": [
            "<class 'pandas.core.frame.DataFrame'>\n",
            "RangeIndex: 714643 entries, 0 to 14292840\n",
            "Data columns (total 23 columns):\n",
            " #   Column                      Non-Null Count   Dtype   \n",
            "---  ------                      --------------   -----   \n",
            " 0   station_id                  714643 non-null  uint16  \n",
            " 1   month                       714643 non-null  uint8   \n",
            " 2   day                         714643 non-null  uint8   \n",
            " 3   hour                        714643 non-null  uint8   \n",
            " 4   weekend                     714643 non-null  bool    \n",
            " 5   weekday                     714643 non-null  uint8   \n",
            " 6   is_holiday                  714643 non-null  bool    \n",
            " 7   season                      714643 non-null  category\n",
            " 8   percentage_docks_available  714643 non-null  float32 \n",
            " 9   ctx_1                       714643 non-null  float32 \n",
            " 10  ctx_2                       714643 non-null  float32 \n",
            " 11  ctx_3                       714643 non-null  float32 \n",
            " 12  ctx_4                       714643 non-null  float32 \n",
            " 13  post_code                   714643 non-null  int64   \n",
            " 14  lon                         714643 non-null  float32 \n",
            " 15  lat                         714643 non-null  float32 \n",
            " 16  altitude                    714643 non-null  uint16  \n",
            " 17  capacity                    714643 non-null  uint8   \n",
            " 18  avg_temp                    714643 non-null  float32 \n",
            " 19  max_temp                    714643 non-null  float32 \n",
            " 20  min_temp                    714643 non-null  float32 \n",
            " 21  avg_rel_humidity            714643 non-null  float32 \n",
            " 22  acum_precipitation          714643 non-null  float32 \n",
            "dtypes: bool(2), category(1), float32(12), int64(1), uint16(2), uint8(5)\n",
            "memory usage: 46.3 MB\n"
          ]
        }
      ]
    },
    {
      "cell_type": "code",
      "source": [
        "df"
      ],
      "metadata": {
        "colab": {
          "base_uri": "https://localhost:8080/",
          "height": 487
        },
        "id": "6atd4vWsMYMb",
        "outputId": "e44261b9-8926-41a5-aa4d-ae6c1a6a3d51"
      },
      "execution_count": null,
      "outputs": [
        {
          "output_type": "execute_result",
          "data": {
            "text/plain": [
              "          station_id  month  day  hour  weekend  weekday  is_holiday  season  \\\n",
              "0                  1      3   28    21    False        4       False  spring   \n",
              "25                 1      3   30     0     True        6       False  spring   \n",
              "50                 1      3   31     9     True        7       False  spring   \n",
              "75                 1      4    1    12    False        1       False  spring   \n",
              "100                1      4    2    13    False        2       False  spring   \n",
              "...              ...    ...  ...   ...      ...      ...         ...     ...   \n",
              "14292750         519     12   27    14    False        2       False  winter   \n",
              "14292775         519     12   28    15    False        3       False  winter   \n",
              "14292800         519     12   29    16    False        4       False  winter   \n",
              "14292825         519     12   30    20    False        5       False  winter   \n",
              "14292850         519     12   31    23     True        6       False  winter   \n",
              "\n",
              "          percentage_docks_available     ctx_1  ...  post_code       lon  \\\n",
              "0                           0.033333  0.150000  ...       8013  2.180107   \n",
              "25                          0.034483  0.189655  ...       8013  2.180107   \n",
              "50                          0.034483  0.068966  ...       8013  2.180107   \n",
              "75                          0.966667  0.966667  ...       8013  2.180107   \n",
              "100                         0.066667  0.133333  ...       8013  2.180107   \n",
              "...                              ...       ...  ...        ...       ...   \n",
              "14292750                    0.958333  0.958333  ...       8032  2.166289   \n",
              "14292775                    0.958333  0.833333  ...       8032  2.166289   \n",
              "14292800                    0.739130  0.791667  ...       8032  2.166289   \n",
              "14292825                    0.937500  0.958333  ...       8032  2.166289   \n",
              "14292850                    0.541667  0.583333  ...       8032  2.166289   \n",
              "\n",
              "                lat  altitude  capacity   avg_temp   max_temp  min_temp  \\\n",
              "0         41.397980        16        46  13.100000  17.600000     9.225   \n",
              "25        41.397980        16        46  12.300000  16.750000     8.700   \n",
              "50        41.397980        16        46  12.700000  15.750000    10.200   \n",
              "75        41.397980        16        46  14.025000  18.174999    11.200   \n",
              "100       41.397980        16        46  14.475000  18.575001    11.575   \n",
              "...             ...       ...       ...        ...        ...       ...   \n",
              "14292750  41.424656       110        24  13.600000  18.674999    10.350   \n",
              "14292775  41.424656       110        24  12.750000  17.700001     9.425   \n",
              "14292800  41.424656       110        24  13.450000  18.674999     9.575   \n",
              "14292825  41.424656       110        24  15.250000  18.299999    11.800   \n",
              "14292850  41.424656       110        24  16.299999  21.674999    12.175   \n",
              "\n",
              "          avg_rel_humidity  acum_precipitation  \n",
              "0                    51.25            0.000000  \n",
              "25                   67.00            0.000000  \n",
              "50                   74.00            0.000000  \n",
              "75                   58.00            0.000000  \n",
              "100                  70.00            0.966667  \n",
              "...                    ...                 ...  \n",
              "14292750             74.50            0.000000  \n",
              "14292775             75.25            0.000000  \n",
              "14292800             62.50            0.000000  \n",
              "14292825             62.00            0.000000  \n",
              "14292850             59.50            0.000000  \n",
              "\n",
              "[571715 rows x 23 columns]"
            ],
            "text/html": [
              "\n",
              "  <div id=\"df-67c17f4d-2ca7-465e-ad00-6d8453d665cd\">\n",
              "    <div class=\"colab-df-container\">\n",
              "      <div>\n",
              "<style scoped>\n",
              "    .dataframe tbody tr th:only-of-type {\n",
              "        vertical-align: middle;\n",
              "    }\n",
              "\n",
              "    .dataframe tbody tr th {\n",
              "        vertical-align: top;\n",
              "    }\n",
              "\n",
              "    .dataframe thead th {\n",
              "        text-align: right;\n",
              "    }\n",
              "</style>\n",
              "<table border=\"1\" class=\"dataframe\">\n",
              "  <thead>\n",
              "    <tr style=\"text-align: right;\">\n",
              "      <th></th>\n",
              "      <th>station_id</th>\n",
              "      <th>month</th>\n",
              "      <th>day</th>\n",
              "      <th>hour</th>\n",
              "      <th>weekend</th>\n",
              "      <th>weekday</th>\n",
              "      <th>is_holiday</th>\n",
              "      <th>season</th>\n",
              "      <th>percentage_docks_available</th>\n",
              "      <th>ctx_1</th>\n",
              "      <th>...</th>\n",
              "      <th>post_code</th>\n",
              "      <th>lon</th>\n",
              "      <th>lat</th>\n",
              "      <th>altitude</th>\n",
              "      <th>capacity</th>\n",
              "      <th>avg_temp</th>\n",
              "      <th>max_temp</th>\n",
              "      <th>min_temp</th>\n",
              "      <th>avg_rel_humidity</th>\n",
              "      <th>acum_precipitation</th>\n",
              "    </tr>\n",
              "  </thead>\n",
              "  <tbody>\n",
              "    <tr>\n",
              "      <th>0</th>\n",
              "      <td>1</td>\n",
              "      <td>3</td>\n",
              "      <td>28</td>\n",
              "      <td>21</td>\n",
              "      <td>False</td>\n",
              "      <td>4</td>\n",
              "      <td>False</td>\n",
              "      <td>spring</td>\n",
              "      <td>0.033333</td>\n",
              "      <td>0.150000</td>\n",
              "      <td>...</td>\n",
              "      <td>8013</td>\n",
              "      <td>2.180107</td>\n",
              "      <td>41.397980</td>\n",
              "      <td>16</td>\n",
              "      <td>46</td>\n",
              "      <td>13.100000</td>\n",
              "      <td>17.600000</td>\n",
              "      <td>9.225</td>\n",
              "      <td>51.25</td>\n",
              "      <td>0.000000</td>\n",
              "    </tr>\n",
              "    <tr>\n",
              "      <th>25</th>\n",
              "      <td>1</td>\n",
              "      <td>3</td>\n",
              "      <td>30</td>\n",
              "      <td>0</td>\n",
              "      <td>True</td>\n",
              "      <td>6</td>\n",
              "      <td>False</td>\n",
              "      <td>spring</td>\n",
              "      <td>0.034483</td>\n",
              "      <td>0.189655</td>\n",
              "      <td>...</td>\n",
              "      <td>8013</td>\n",
              "      <td>2.180107</td>\n",
              "      <td>41.397980</td>\n",
              "      <td>16</td>\n",
              "      <td>46</td>\n",
              "      <td>12.300000</td>\n",
              "      <td>16.750000</td>\n",
              "      <td>8.700</td>\n",
              "      <td>67.00</td>\n",
              "      <td>0.000000</td>\n",
              "    </tr>\n",
              "    <tr>\n",
              "      <th>50</th>\n",
              "      <td>1</td>\n",
              "      <td>3</td>\n",
              "      <td>31</td>\n",
              "      <td>9</td>\n",
              "      <td>True</td>\n",
              "      <td>7</td>\n",
              "      <td>False</td>\n",
              "      <td>spring</td>\n",
              "      <td>0.034483</td>\n",
              "      <td>0.068966</td>\n",
              "      <td>...</td>\n",
              "      <td>8013</td>\n",
              "      <td>2.180107</td>\n",
              "      <td>41.397980</td>\n",
              "      <td>16</td>\n",
              "      <td>46</td>\n",
              "      <td>12.700000</td>\n",
              "      <td>15.750000</td>\n",
              "      <td>10.200</td>\n",
              "      <td>74.00</td>\n",
              "      <td>0.000000</td>\n",
              "    </tr>\n",
              "    <tr>\n",
              "      <th>75</th>\n",
              "      <td>1</td>\n",
              "      <td>4</td>\n",
              "      <td>1</td>\n",
              "      <td>12</td>\n",
              "      <td>False</td>\n",
              "      <td>1</td>\n",
              "      <td>False</td>\n",
              "      <td>spring</td>\n",
              "      <td>0.966667</td>\n",
              "      <td>0.966667</td>\n",
              "      <td>...</td>\n",
              "      <td>8013</td>\n",
              "      <td>2.180107</td>\n",
              "      <td>41.397980</td>\n",
              "      <td>16</td>\n",
              "      <td>46</td>\n",
              "      <td>14.025000</td>\n",
              "      <td>18.174999</td>\n",
              "      <td>11.200</td>\n",
              "      <td>58.00</td>\n",
              "      <td>0.000000</td>\n",
              "    </tr>\n",
              "    <tr>\n",
              "      <th>100</th>\n",
              "      <td>1</td>\n",
              "      <td>4</td>\n",
              "      <td>2</td>\n",
              "      <td>13</td>\n",
              "      <td>False</td>\n",
              "      <td>2</td>\n",
              "      <td>False</td>\n",
              "      <td>spring</td>\n",
              "      <td>0.066667</td>\n",
              "      <td>0.133333</td>\n",
              "      <td>...</td>\n",
              "      <td>8013</td>\n",
              "      <td>2.180107</td>\n",
              "      <td>41.397980</td>\n",
              "      <td>16</td>\n",
              "      <td>46</td>\n",
              "      <td>14.475000</td>\n",
              "      <td>18.575001</td>\n",
              "      <td>11.575</td>\n",
              "      <td>70.00</td>\n",
              "      <td>0.966667</td>\n",
              "    </tr>\n",
              "    <tr>\n",
              "      <th>...</th>\n",
              "      <td>...</td>\n",
              "      <td>...</td>\n",
              "      <td>...</td>\n",
              "      <td>...</td>\n",
              "      <td>...</td>\n",
              "      <td>...</td>\n",
              "      <td>...</td>\n",
              "      <td>...</td>\n",
              "      <td>...</td>\n",
              "      <td>...</td>\n",
              "      <td>...</td>\n",
              "      <td>...</td>\n",
              "      <td>...</td>\n",
              "      <td>...</td>\n",
              "      <td>...</td>\n",
              "      <td>...</td>\n",
              "      <td>...</td>\n",
              "      <td>...</td>\n",
              "      <td>...</td>\n",
              "      <td>...</td>\n",
              "      <td>...</td>\n",
              "    </tr>\n",
              "    <tr>\n",
              "      <th>14292750</th>\n",
              "      <td>519</td>\n",
              "      <td>12</td>\n",
              "      <td>27</td>\n",
              "      <td>14</td>\n",
              "      <td>False</td>\n",
              "      <td>2</td>\n",
              "      <td>False</td>\n",
              "      <td>winter</td>\n",
              "      <td>0.958333</td>\n",
              "      <td>0.958333</td>\n",
              "      <td>...</td>\n",
              "      <td>8032</td>\n",
              "      <td>2.166289</td>\n",
              "      <td>41.424656</td>\n",
              "      <td>110</td>\n",
              "      <td>24</td>\n",
              "      <td>13.600000</td>\n",
              "      <td>18.674999</td>\n",
              "      <td>10.350</td>\n",
              "      <td>74.50</td>\n",
              "      <td>0.000000</td>\n",
              "    </tr>\n",
              "    <tr>\n",
              "      <th>14292775</th>\n",
              "      <td>519</td>\n",
              "      <td>12</td>\n",
              "      <td>28</td>\n",
              "      <td>15</td>\n",
              "      <td>False</td>\n",
              "      <td>3</td>\n",
              "      <td>False</td>\n",
              "      <td>winter</td>\n",
              "      <td>0.958333</td>\n",
              "      <td>0.833333</td>\n",
              "      <td>...</td>\n",
              "      <td>8032</td>\n",
              "      <td>2.166289</td>\n",
              "      <td>41.424656</td>\n",
              "      <td>110</td>\n",
              "      <td>24</td>\n",
              "      <td>12.750000</td>\n",
              "      <td>17.700001</td>\n",
              "      <td>9.425</td>\n",
              "      <td>75.25</td>\n",
              "      <td>0.000000</td>\n",
              "    </tr>\n",
              "    <tr>\n",
              "      <th>14292800</th>\n",
              "      <td>519</td>\n",
              "      <td>12</td>\n",
              "      <td>29</td>\n",
              "      <td>16</td>\n",
              "      <td>False</td>\n",
              "      <td>4</td>\n",
              "      <td>False</td>\n",
              "      <td>winter</td>\n",
              "      <td>0.739130</td>\n",
              "      <td>0.791667</td>\n",
              "      <td>...</td>\n",
              "      <td>8032</td>\n",
              "      <td>2.166289</td>\n",
              "      <td>41.424656</td>\n",
              "      <td>110</td>\n",
              "      <td>24</td>\n",
              "      <td>13.450000</td>\n",
              "      <td>18.674999</td>\n",
              "      <td>9.575</td>\n",
              "      <td>62.50</td>\n",
              "      <td>0.000000</td>\n",
              "    </tr>\n",
              "    <tr>\n",
              "      <th>14292825</th>\n",
              "      <td>519</td>\n",
              "      <td>12</td>\n",
              "      <td>30</td>\n",
              "      <td>20</td>\n",
              "      <td>False</td>\n",
              "      <td>5</td>\n",
              "      <td>False</td>\n",
              "      <td>winter</td>\n",
              "      <td>0.937500</td>\n",
              "      <td>0.958333</td>\n",
              "      <td>...</td>\n",
              "      <td>8032</td>\n",
              "      <td>2.166289</td>\n",
              "      <td>41.424656</td>\n",
              "      <td>110</td>\n",
              "      <td>24</td>\n",
              "      <td>15.250000</td>\n",
              "      <td>18.299999</td>\n",
              "      <td>11.800</td>\n",
              "      <td>62.00</td>\n",
              "      <td>0.000000</td>\n",
              "    </tr>\n",
              "    <tr>\n",
              "      <th>14292850</th>\n",
              "      <td>519</td>\n",
              "      <td>12</td>\n",
              "      <td>31</td>\n",
              "      <td>23</td>\n",
              "      <td>True</td>\n",
              "      <td>6</td>\n",
              "      <td>False</td>\n",
              "      <td>winter</td>\n",
              "      <td>0.541667</td>\n",
              "      <td>0.583333</td>\n",
              "      <td>...</td>\n",
              "      <td>8032</td>\n",
              "      <td>2.166289</td>\n",
              "      <td>41.424656</td>\n",
              "      <td>110</td>\n",
              "      <td>24</td>\n",
              "      <td>16.299999</td>\n",
              "      <td>21.674999</td>\n",
              "      <td>12.175</td>\n",
              "      <td>59.50</td>\n",
              "      <td>0.000000</td>\n",
              "    </tr>\n",
              "  </tbody>\n",
              "</table>\n",
              "<p>571715 rows × 23 columns</p>\n",
              "</div>\n",
              "      <button class=\"colab-df-convert\" onclick=\"convertToInteractive('df-67c17f4d-2ca7-465e-ad00-6d8453d665cd')\"\n",
              "              title=\"Convert this dataframe to an interactive table.\"\n",
              "              style=\"display:none;\">\n",
              "        \n",
              "  <svg xmlns=\"http://www.w3.org/2000/svg\" height=\"24px\"viewBox=\"0 0 24 24\"\n",
              "       width=\"24px\">\n",
              "    <path d=\"M0 0h24v24H0V0z\" fill=\"none\"/>\n",
              "    <path d=\"M18.56 5.44l.94 2.06.94-2.06 2.06-.94-2.06-.94-.94-2.06-.94 2.06-2.06.94zm-11 1L8.5 8.5l.94-2.06 2.06-.94-2.06-.94L8.5 2.5l-.94 2.06-2.06.94zm10 10l.94 2.06.94-2.06 2.06-.94-2.06-.94-.94-2.06-.94 2.06-2.06.94z\"/><path d=\"M17.41 7.96l-1.37-1.37c-.4-.4-.92-.59-1.43-.59-.52 0-1.04.2-1.43.59L10.3 9.45l-7.72 7.72c-.78.78-.78 2.05 0 2.83L4 21.41c.39.39.9.59 1.41.59.51 0 1.02-.2 1.41-.59l7.78-7.78 2.81-2.81c.8-.78.8-2.07 0-2.86zM5.41 20L4 18.59l7.72-7.72 1.47 1.35L5.41 20z\"/>\n",
              "  </svg>\n",
              "      </button>\n",
              "      \n",
              "  <style>\n",
              "    .colab-df-container {\n",
              "      display:flex;\n",
              "      flex-wrap:wrap;\n",
              "      gap: 12px;\n",
              "    }\n",
              "\n",
              "    .colab-df-convert {\n",
              "      background-color: #E8F0FE;\n",
              "      border: none;\n",
              "      border-radius: 50%;\n",
              "      cursor: pointer;\n",
              "      display: none;\n",
              "      fill: #1967D2;\n",
              "      height: 32px;\n",
              "      padding: 0 0 0 0;\n",
              "      width: 32px;\n",
              "    }\n",
              "\n",
              "    .colab-df-convert:hover {\n",
              "      background-color: #E2EBFA;\n",
              "      box-shadow: 0px 1px 2px rgba(60, 64, 67, 0.3), 0px 1px 3px 1px rgba(60, 64, 67, 0.15);\n",
              "      fill: #174EA6;\n",
              "    }\n",
              "\n",
              "    [theme=dark] .colab-df-convert {\n",
              "      background-color: #3B4455;\n",
              "      fill: #D2E3FC;\n",
              "    }\n",
              "\n",
              "    [theme=dark] .colab-df-convert:hover {\n",
              "      background-color: #434B5C;\n",
              "      box-shadow: 0px 1px 3px 1px rgba(0, 0, 0, 0.15);\n",
              "      filter: drop-shadow(0px 1px 2px rgba(0, 0, 0, 0.3));\n",
              "      fill: #FFFFFF;\n",
              "    }\n",
              "  </style>\n",
              "\n",
              "      <script>\n",
              "        const buttonEl =\n",
              "          document.querySelector('#df-67c17f4d-2ca7-465e-ad00-6d8453d665cd button.colab-df-convert');\n",
              "        buttonEl.style.display =\n",
              "          google.colab.kernel.accessAllowed ? 'block' : 'none';\n",
              "\n",
              "        async function convertToInteractive(key) {\n",
              "          const element = document.querySelector('#df-67c17f4d-2ca7-465e-ad00-6d8453d665cd');\n",
              "          const dataTable =\n",
              "            await google.colab.kernel.invokeFunction('convertToInteractive',\n",
              "                                                     [key], {});\n",
              "          if (!dataTable) return;\n",
              "\n",
              "          const docLinkHtml = 'Like what you see? Visit the ' +\n",
              "            '<a target=\"_blank\" href=https://colab.research.google.com/notebooks/data_table.ipynb>data table notebook</a>'\n",
              "            + ' to learn more about interactive tables.';\n",
              "          element.innerHTML = '';\n",
              "          dataTable['output_type'] = 'display_data';\n",
              "          await google.colab.output.renderOutput(dataTable, element);\n",
              "          const docLink = document.createElement('div');\n",
              "          docLink.innerHTML = docLinkHtml;\n",
              "          element.appendChild(docLink);\n",
              "        }\n",
              "      </script>\n",
              "    </div>\n",
              "  </div>\n",
              "  "
            ]
          },
          "metadata": {},
          "execution_count": 12
        }
      ]
    },
    {
      "cell_type": "code",
      "source": [
        " #function that transforms time data into cyclic variables, using sin and cos\n",
        "\n",
        "def encode(data, col, max_val):\n",
        "    data[col + '_sin'] = np.sin(2 * np.pi * data[col]/max_val)\n",
        "    data[col + '_cos'] = np.cos(2 * np.pi * data[col]/max_val)\n",
        "    return data"
      ],
      "metadata": {
        "id": "906Fy42xKLlW"
      },
      "execution_count": 3,
      "outputs": []
    },
    {
      "cell_type": "code",
      "source": [
        "\n",
        "#transform time data using the defined encode function\n",
        "df=encode(df,'month',12)\n",
        "df=encode(df,'day',31)\n",
        "df=encode(df,'weekday',7)\n",
        "df=encode(df,'hour',23)"
      ],
      "metadata": {
        "id": "SIZ_fy6fK7-T"
      },
      "execution_count": 4,
      "outputs": []
    },
    {
      "cell_type": "code",
      "source": [
        "#transfor station id and potcode into categorical variable\n",
        "df['station_id'] = pd.Categorical(df.station_id)\n",
        "df['post_code'] = pd.Categorical(df.post_code)"
      ],
      "metadata": {
        "id": "iHsOM_gyPEUe"
      },
      "execution_count": 5,
      "outputs": []
    },
    {
      "cell_type": "code",
      "source": [
        "df=df.drop(['month','day','weekday','hour'],axis=1)"
      ],
      "metadata": {
        "id": "i-mbx7iePwJj"
      },
      "execution_count": 6,
      "outputs": []
    },
    {
      "cell_type": "code",
      "source": [
        "df.info()"
      ],
      "metadata": {
        "colab": {
          "base_uri": "https://localhost:8080/"
        },
        "id": "sGdLsPRGP9Ur",
        "outputId": "fe423623-5a80-40e0-8905-03fcaa9ac60d"
      },
      "execution_count": null,
      "outputs": [
        {
          "output_type": "stream",
          "name": "stdout",
          "text": [
            "<class 'pandas.core.frame.DataFrame'>\n",
            "RangeIndex: 571715 entries, 0 to 14292850\n",
            "Data columns (total 27 columns):\n",
            " #   Column                      Non-Null Count   Dtype   \n",
            "---  ------                      --------------   -----   \n",
            " 0   station_id                  571715 non-null  category\n",
            " 1   weekend                     571715 non-null  bool    \n",
            " 2   is_holiday                  571715 non-null  bool    \n",
            " 3   season                      571715 non-null  category\n",
            " 4   percentage_docks_available  571715 non-null  float32 \n",
            " 5   ctx_1                       571715 non-null  float32 \n",
            " 6   ctx_2                       571715 non-null  float32 \n",
            " 7   ctx_3                       571715 non-null  float32 \n",
            " 8   ctx_4                       571715 non-null  float32 \n",
            " 9   post_code                   571715 non-null  category\n",
            " 10  lon                         571715 non-null  float32 \n",
            " 11  lat                         571715 non-null  float32 \n",
            " 12  altitude                    571715 non-null  uint16  \n",
            " 13  capacity                    571715 non-null  uint8   \n",
            " 14  avg_temp                    571715 non-null  float32 \n",
            " 15  max_temp                    571715 non-null  float32 \n",
            " 16  min_temp                    571715 non-null  float32 \n",
            " 17  avg_rel_humidity            571715 non-null  float32 \n",
            " 18  acum_precipitation          571715 non-null  float32 \n",
            " 19  month_sin                   571715 non-null  float64 \n",
            " 20  month_cos                   571715 non-null  float64 \n",
            " 21  day_sin                     571715 non-null  float64 \n",
            " 22  day_cos                     571715 non-null  float64 \n",
            " 23  weekday_sin                 571715 non-null  float64 \n",
            " 24  weekday_cos                 571715 non-null  float64 \n",
            " 25  hour_sin                    571715 non-null  float64 \n",
            " 26  hour_cos                    571715 non-null  float64 \n",
            "dtypes: bool(2), category(3), float32(12), float64(8), uint16(1), uint8(1)\n",
            "memory usage: 66.0 MB\n"
          ]
        }
      ]
    },
    {
      "cell_type": "code",
      "source": [
        "## divide using the scikit learn function\n",
        "from sklearn.model_selection import train_test_split\n",
        "\n",
        "train_set, test_set = train_test_split(df, test_size=0.2, random_state=42)"
      ],
      "metadata": {
        "id": "FFMgCjssPSBr"
      },
      "execution_count": 7,
      "outputs": []
    },
    {
      "cell_type": "code",
      "source": [
        "#separate the target variable\n",
        "\n",
        "x_train = train_set.drop([\"percentage_docks_available\"], axis=1) # drop labels for training set\n",
        "y_train =  train_set[\"percentage_docks_available\"].copy()\n",
        "\n",
        "x_test=test_set.drop([\"percentage_docks_available\"], axis=1) # drop labels for training set\n",
        "y_test=test_set[\"percentage_docks_available\"].copy()"
      ],
      "metadata": {
        "id": "fT9OXdJrQPFF"
      },
      "execution_count": 8,
      "outputs": []
    },
    {
      "cell_type": "markdown",
      "source": [
        "###Pipeline"
      ],
      "metadata": {
        "id": "jMjFXdl6UtWC"
      }
    },
    {
      "cell_type": "code",
      "source": [
        "#create a pipeline to transform categorical data and to transform numerical data and  normalize numerical data\n",
        "#import libraries\n",
        "#categorical variables\n",
        "from sklearn.preprocessing import OrdinalEncoder\n",
        "from sklearn.preprocessing import OneHotEncoder\n",
        "from sklearn.pipeline import Pipeline\n",
        "from sklearn.preprocessing import StandardScaler\n",
        "from sklearn.preprocessing import FunctionTransformer\n"
      ],
      "metadata": {
        "id": "rXBDYPSMQdl1"
      },
      "execution_count": 9,
      "outputs": []
    },
    {
      "cell_type": "code",
      "source": [
        "#encoding of categorical variables\n",
        "cat_pipeline = Pipeline([\n",
        "        ('one_hot_encoder', OneHotEncoder(handle_unknown='ignore')),\n",
        "    ])"
      ],
      "metadata": {
        "id": "D1lEovmZQqqG"
      },
      "execution_count": 11,
      "outputs": []
    },
    {
      "cell_type": "code",
      "source": [
        "#standardization of numerial variables\n",
        "numerical_pipeline=Pipeline([\n",
        "    ('standardize',StandardScaler()),])"
      ],
      "metadata": {
        "id": "6V6F-ZrJQucG"
      },
      "execution_count": 12,
      "outputs": []
    },
    {
      "cell_type": "code",
      "source": [
        "#logaritmic transofrmation of data\n",
        "log_pipeline = Pipeline([\n",
        "  ('log_transform',FunctionTransformer(np.log1p)),])"
      ],
      "metadata": {
        "id": "cQR15HFbfaBq"
      },
      "execution_count": 13,
      "outputs": []
    },
    {
      "cell_type": "code",
      "source": [
        "#create a pipeline and apply to train and test\n",
        "from sklearn.compose import ColumnTransformer\n",
        "from sklearn.pipeline import make_pipeline\n",
        "\n",
        "cat_attribs = ['station_id','season','post_code']\n",
        "standardize_features = ['month_cos','month_sin','day_cos','day_sin','hour_cos','hour_sin','weekend','weekday_cos','weekday_sin','is_holiday','lon','lat','capacity','avg_temp', 'max_temp', 'min_temp', 'avg_rel_humidity','ctx_1','ctx_2','ctx_3','ctx_4','altitude','acum_precipitation']\n",
        "log_transform=['ctx_1','ctx_2','ctx_3','ctx_4','altitude','acum_precipitation']\n",
        "\n",
        "full_pipeline = ColumnTransformer([\n",
        "        ('cat', cat_pipeline, cat_attribs),\n",
        "        ('log_transform',log_pipeline,log_transform),\n",
        "        ('num',numerical_pipeline,standardize_features),\n",
        "        ])\n",
        "\n",
        "bicing_prepared = full_pipeline.fit_transform(x_train)\n",
        "\n",
        "test_prepared = full_pipeline.fit_transform(x_test)"
      ],
      "metadata": {
        "id": "YwfocF7gQxj7"
      },
      "execution_count": 14,
      "outputs": []
    },
    {
      "cell_type": "markdown",
      "source": [
        "###Model: neural network"
      ],
      "metadata": {
        "id": "W2Tr89hDU5RC"
      }
    },
    {
      "cell_type": "markdown",
      "source": [
        "Define the model"
      ],
      "metadata": {
        "id": "POuD9wjfVZz4"
      }
    },
    {
      "cell_type": "code",
      "source": [
        "from keras.models import Sequential, Model\n",
        "from keras.layers import Input, Dense, Activation, Dropout\n",
        "from keras.optimizers import Adam\n",
        "\n",
        "ann = Sequential()                          # Initializing the ANN\n",
        "ann.add(Dense(units=12,input_dim=bicing_prepared.shape[1],activation=\"relu\"))  #Adding First Hidden Layer\n",
        "ann.add(Dense(units=12,input_dim=bicing_prepared.shape[1], activation=\"relu\"))  # Adding Second Hidden Layer\n",
        "ann.add(Dense(units=1,activation='sigmoid'))   # Adding Output Layer\n",
        "#compile the model\n",
        "ann.compile(optimizer=\"adam\",loss=\"mean_squared_error\")\n",
        "ann.summary()\n"
      ],
      "metadata": {
        "colab": {
          "base_uri": "https://localhost:8080/"
        },
        "id": "KYweQty0ZK0H",
        "outputId": "ce138767-0a32-486f-95c1-b08e44415f4f"
      },
      "execution_count": 15,
      "outputs": [
        {
          "output_type": "stream",
          "name": "stdout",
          "text": [
            "Model: \"sequential\"\n",
            "_________________________________________________________________\n",
            " Layer (type)                Output Shape              Param #   \n",
            "=================================================================\n",
            " dense (Dense)               (None, 12)                6984      \n",
            "                                                                 \n",
            " dense_1 (Dense)             (None, 12)                156       \n",
            "                                                                 \n",
            " dense_2 (Dense)             (None, 1)                 13        \n",
            "                                                                 \n",
            "=================================================================\n",
            "Total params: 7,153\n",
            "Trainable params: 7,153\n",
            "Non-trainable params: 0\n",
            "_________________________________________________________________\n"
          ]
        }
      ]
    },
    {
      "cell_type": "markdown",
      "source": [
        "Fit the model"
      ],
      "metadata": {
        "id": "POtZfP1LVdy3"
      }
    },
    {
      "cell_type": "code",
      "source": [
        "X_train=bicing_prepared.toarray()\n",
        "X_test=test_prepared.toarray()"
      ],
      "metadata": {
        "id": "XDNW5DNQatbY"
      },
      "execution_count": 19,
      "outputs": []
    },
    {
      "cell_type": "code",
      "source": [
        "from tensorflow.keras.callbacks import EarlyStopping\n",
        "history=ann.fit(x=X_train, y=y_train, epochs=12, batch_size=32,validation_data=(X_test,y_test),callbacks=EarlyStopping(monitor='val_loss',patience=4))"
      ],
      "metadata": {
        "colab": {
          "base_uri": "https://localhost:8080/"
        },
        "id": "U-cE9zoOZmQI",
        "outputId": "845287f1-53e9-4dff-b3ff-1cc13a29060e"
      },
      "execution_count": 20,
      "outputs": [
        {
          "output_type": "stream",
          "name": "stdout",
          "text": [
            "Epoch 1/12\n",
            "17867/17867 [==============================] - 53s 3ms/step - loss: 0.0161 - val_loss: 0.0151\n",
            "Epoch 2/12\n",
            "17867/17867 [==============================] - 50s 3ms/step - loss: 0.0149 - val_loss: 0.0148\n",
            "Epoch 3/12\n",
            "17867/17867 [==============================] - 47s 3ms/step - loss: 0.0147 - val_loss: 0.0147\n",
            "Epoch 4/12\n",
            "17867/17867 [==============================] - 47s 3ms/step - loss: 0.0146 - val_loss: 0.0148\n",
            "Epoch 5/12\n",
            "17867/17867 [==============================] - 46s 3ms/step - loss: 0.0145 - val_loss: 0.0145\n",
            "Epoch 6/12\n",
            "17867/17867 [==============================] - 42s 2ms/step - loss: 0.0145 - val_loss: 0.0144\n",
            "Epoch 7/12\n",
            "17867/17867 [==============================] - 42s 2ms/step - loss: 0.0144 - val_loss: 0.0146\n",
            "Epoch 8/12\n",
            "17867/17867 [==============================] - 47s 3ms/step - loss: 0.0144 - val_loss: 0.0145\n",
            "Epoch 9/12\n",
            "17867/17867 [==============================] - 47s 3ms/step - loss: 0.0144 - val_loss: 0.0145\n",
            "Epoch 10/12\n",
            "17867/17867 [==============================] - 42s 2ms/step - loss: 0.0144 - val_loss: 0.0144\n",
            "Epoch 11/12\n",
            "17867/17867 [==============================] - 46s 3ms/step - loss: 0.0143 - val_loss: 0.0144\n",
            "Epoch 12/12\n",
            "17867/17867 [==============================] - 47s 3ms/step - loss: 0.0143 - val_loss: 0.0145\n"
          ]
        }
      ]
    },
    {
      "cell_type": "markdown",
      "source": [
        "Model performance"
      ],
      "metadata": {
        "id": "TYLoz2lIVjoo"
      }
    },
    {
      "cell_type": "code",
      "source": [
        "import matplotlib.pyplot as plt\n",
        "plt.scatter(x=history.epoch,y=history.history['loss'],label='Training Error')\n",
        "plt.scatter(x=history.epoch,y=history.history['val_loss'],label='Validation Error')\n",
        "plt.grid(True)\n",
        "plt.xlabel('Iteration')\n",
        "plt.ylabel('Loss')\n",
        "plt.title('Training Vs Validation Error')\n",
        "plt.legend()\n",
        "plt.show()"
      ],
      "metadata": {
        "colab": {
          "base_uri": "https://localhost:8080/",
          "height": 472
        },
        "id": "GTnURHepZgH5",
        "outputId": "0dc8dc16-8d1e-4b61-b3cf-d5f9e68a9244"
      },
      "execution_count": 21,
      "outputs": [
        {
          "output_type": "display_data",
          "data": {
            "text/plain": [
              "<Figure size 640x480 with 1 Axes>"
            ],
            "image/png": "[encoded data removed]"
          },
          "metadata": {}
        }
      ]
    },
    {
      "cell_type": "markdown",
      "source": [
        "Calculate model error\n"
      ],
      "metadata": {
        "id": "WXl9RkE1Vq8f"
      }
    },
    {
      "cell_type": "code",
      "source": [
        "#make predictions\n",
        "import numpy as np\n",
        "trainPredict = ann.predict(X_train)\n",
        "testPredict = ann.predict(X_test)\n",
        "from sklearn import metrics\n",
        "print(\"MAE:\",metrics.mean_absolute_error(y_test,testPredict))\n",
        "print (\"MSE:\",metrics.mean_squared_error(y_test,testPredict))\n",
        "print(\"RMSE train:\",np.sqrt(metrics.mean_squared_error(y_train,trainPredict)))\n",
        "print(\"RMSE test:\",np.sqrt(metrics.mean_squared_error(y_test,testPredict)))"
      ],
      "metadata": {
        "colab": {
          "base_uri": "https://localhost:8080/"
        },
        "id": "iKaM7vdeiv7B",
        "outputId": "43751383-1a8d-48d6-c65d-85ff3579c4c3"
      },
      "execution_count": 22,
      "outputs": [
        {
          "output_type": "stream",
          "name": "stdout",
          "text": [
            "17867/17867 [==============================] - 25s 1ms/step\n",
            "4467/4467 [==============================] - 6s 1ms/step\n",
            "MAE: 0.07882642\n",
            "MSE: 0.014515995\n",
            "RMSE train: 0.119696535\n",
            "RMSE test: 0.12048234\n"
          ]
        }
      ]
    },
    {
      "cell_type": "markdown",
      "source": [
        "Kaggle submission"
      ],
      "metadata": {
        "id": "UMgEK50ibGDA"
      }
    },
    {
      "cell_type": "code",
      "source": [
        "# Preprocess the test data the same way we have done with the train set.\n",
        "#sRead data\n",
        "submission=pd.read_parquet('/content/drive/MyDrive/data_submission.parquet')\n",
        "\n",
        "#transform time data\n",
        "submission=encode(submission,'month',12)\n",
        "submission=encode(submission,'day',31)\n",
        "submission=encode(submission,'weekday',7)\n",
        "submission=encode(submission,'hour',23)\n",
        "submission=submission.drop(['month','day','weekday','hour'],axis=1)\n",
        "\n",
        "submission = submission.rename(columns={'ctx-1': 'ctx_1', 'ctx-2': 'ctx_2','ctx-3': 'ctx_3','ctx-4': 'ctx_4'})\n",
        "\n",
        "#apply pipeline\n",
        "X = full_pipeline.transform(submission)\n",
        "X=X.toarray()\n",
        "\n",
        "# Predict bike availability: apply model\n",
        "y = ann.predict(X)\n",
        "\n",
        "# Generate submission to kaggle\n",
        "df_output = pd.DataFrame(y)\n",
        "df_output = df_output.reset_index()\n",
        "df_output.columns = ['index','percentage_docks_available']\n",
        "\n",
        "df_output.to_csv('/content/drive/MyDrive/result_model7.csv',index=False)"
      ],
      "metadata": {
        "colab": {
          "base_uri": "https://localhost:8080/"
        },
        "id": "5CeRKKaobv7Z",
        "outputId": "0cb0c039-d159-40ac-ae04-3d1f58edba6e"
      },
      "execution_count": 23,
      "outputs": [
        {
          "output_type": "stream",
          "name": "stdout",
          "text": [
            "1719/1719 [==============================] - 3s 2ms/step\n"
          ]
        }
      ]
    },
    {
      "cell_type": "code",
      "source": [],
      "metadata": {
        "id": "LzI7BBuRb9Ky"
      },
      "execution_count": null,
      "outputs": []
    }
  ]
}